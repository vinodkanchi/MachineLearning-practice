{
 "cells": [
  {
   "cell_type": "code",
   "execution_count": 1,
   "metadata": {
    "id": "cjDJFijDhI58"
   },
   "outputs": [],
   "source": [
    "import tensorflow as tf\n",
    "from keras.preprocessing.image import ImageDataGenerator"
   ]
  },
  {
   "cell_type": "code",
   "execution_count": 2,
   "metadata": {
    "colab": {
     "base_uri": "https://localhost:8080/",
     "height": 36
    },
    "id": "ywanzpy0hMfy",
    "outputId": "828e20a1-4c74-48d0-8a49-dbd74876fa0c"
   },
   "outputs": [
    {
     "data": {
      "text/plain": [
       "'2.9.1'"
      ]
     },
     "execution_count": 2,
     "metadata": {},
     "output_type": "execute_result"
    }
   ],
   "source": [
    "tf.__version__"
   ]
  },
  {
   "cell_type": "code",
   "execution_count": 3,
   "metadata": {
    "id": "-3fjJt-Ohk1i"
   },
   "outputs": [
    {
     "name": "stdout",
     "output_type": "stream",
     "text": [
      "Found 8000 images belonging to 2 classes.\n"
     ]
    }
   ],
   "source": [
    "train_datagen = ImageDataGenerator(rescale = 1./255,\n",
    "                                   shear_range = 0.2,\n",
    "                                   zoom_range = 0.2,\n",
    "                                   horizontal_flip = True)\n",
    "training_set = train_datagen.flow_from_directory('dataset/training_set',\n",
    "                                                 target_size = (64, 64),\n",
    "                                                 batch_size = 32,\n",
    "                                                 class_mode = 'binary')"
   ]
  },
  {
   "cell_type": "code",
   "execution_count": 4,
   "metadata": {
    "id": "GyZy4YrIhm9E"
   },
   "outputs": [
    {
     "name": "stdout",
     "output_type": "stream",
     "text": [
      "Found 2000 images belonging to 2 classes.\n"
     ]
    }
   ],
   "source": [
    "test_datagen = ImageDataGenerator(rescale = 1./255)\n",
    "test_set = test_datagen.flow_from_directory('dataset/test_set',\n",
    "                                            target_size = (64, 64),\n",
    "                                            batch_size = 32,\n",
    "                                            class_mode = 'binary')"
   ]
  },
  {
   "cell_type": "code",
   "execution_count": 5,
   "metadata": {
    "id": "jUHD6LOnhpFc"
   },
   "outputs": [],
   "source": [
    "cnn = tf.keras.models.Sequential()"
   ]
  },
  {
   "cell_type": "code",
   "execution_count": 6,
   "metadata": {
    "id": "RHHY9yHghrKD"
   },
   "outputs": [],
   "source": [
    "cnn.add(tf.keras.layers.Conv2D(filters=32, kernel_size=3, activation='relu', input_shape=[64, 64, 3]))"
   ]
  },
  {
   "cell_type": "code",
   "execution_count": 7,
   "metadata": {
    "id": "qU0U313jhsyA"
   },
   "outputs": [],
   "source": [
    "cnn.add(tf.keras.layers.MaxPool2D(pool_size=2, strides=2))"
   ]
  },
  {
   "cell_type": "code",
   "execution_count": 8,
   "metadata": {
    "id": "vsi55CZ8hxO4"
   },
   "outputs": [],
   "source": [
    "cnn.add(tf.keras.layers.Conv2D(filters=32, kernel_size=3, activation='relu'))\n",
    "cnn.add(tf.keras.layers.MaxPool2D(pool_size=2, strides=2))"
   ]
  },
  {
   "cell_type": "code",
   "execution_count": 9,
   "metadata": {
    "id": "_ldHsAa6hzHG"
   },
   "outputs": [],
   "source": [
    "cnn.add(tf.keras.layers.Flatten())"
   ]
  },
  {
   "cell_type": "code",
   "execution_count": 10,
   "metadata": {
    "id": "nMFa99Ash1Bp"
   },
   "outputs": [],
   "source": [
    "cnn.add(tf.keras.layers.Dense(units=128, activation='relu'))"
   ]
  },
  {
   "cell_type": "code",
   "execution_count": 11,
   "metadata": {
    "id": "t1AbDrCqh247"
   },
   "outputs": [],
   "source": [
    "cnn.add(tf.keras.layers.Dense(units=1, activation='sigmoid'))"
   ]
  },
  {
   "cell_type": "code",
   "execution_count": 12,
   "metadata": {
    "id": "GH7Ge5n7h6EW"
   },
   "outputs": [],
   "source": [
    "cnn.compile(optimizer = 'adam', loss = 'binary_crossentropy', metrics = ['accuracy'])"
   ]
  },
  {
   "cell_type": "code",
   "execution_count": 13,
   "metadata": {
    "id": "NZCmonnhh8H9"
   },
   "outputs": [
    {
     "name": "stdout",
     "output_type": "stream",
     "text": [
      "Epoch 1/25\n",
      "250/250 [==============================] - 126s 503ms/step - loss: 0.6608 - accuracy: 0.5978 - val_loss: 0.6252 - val_accuracy: 0.6515\n",
      "Epoch 2/25\n",
      "250/250 [==============================] - 53s 212ms/step - loss: 0.5899 - accuracy: 0.6869 - val_loss: 0.5694 - val_accuracy: 0.7045\n",
      "Epoch 3/25\n",
      "250/250 [==============================] - 61s 243ms/step - loss: 0.5601 - accuracy: 0.7119 - val_loss: 0.5095 - val_accuracy: 0.7450\n",
      "Epoch 4/25\n",
      "250/250 [==============================] - 52s 208ms/step - loss: 0.5315 - accuracy: 0.7310 - val_loss: 0.5128 - val_accuracy: 0.7470\n",
      "Epoch 5/25\n",
      "250/250 [==============================] - 63s 253ms/step - loss: 0.5050 - accuracy: 0.7551 - val_loss: 0.5009 - val_accuracy: 0.7610\n",
      "Epoch 6/25\n",
      "250/250 [==============================] - 62s 247ms/step - loss: 0.4794 - accuracy: 0.7664 - val_loss: 0.4779 - val_accuracy: 0.7730\n",
      "Epoch 7/25\n",
      "250/250 [==============================] - 56s 224ms/step - loss: 0.4675 - accuracy: 0.7731 - val_loss: 0.4938 - val_accuracy: 0.7575\n",
      "Epoch 8/25\n",
      "250/250 [==============================] - 60s 241ms/step - loss: 0.4461 - accuracy: 0.7899 - val_loss: 0.5147 - val_accuracy: 0.7640\n",
      "Epoch 9/25\n",
      "250/250 [==============================] - 57s 229ms/step - loss: 0.4369 - accuracy: 0.7974 - val_loss: 0.4558 - val_accuracy: 0.7905\n",
      "Epoch 10/25\n",
      "250/250 [==============================] - 58s 232ms/step - loss: 0.4297 - accuracy: 0.7965 - val_loss: 0.4644 - val_accuracy: 0.7905\n",
      "Epoch 11/25\n",
      "250/250 [==============================] - 60s 241ms/step - loss: 0.4038 - accuracy: 0.8119 - val_loss: 0.4778 - val_accuracy: 0.7800\n",
      "Epoch 12/25\n",
      "250/250 [==============================] - 56s 223ms/step - loss: 0.3966 - accuracy: 0.8184 - val_loss: 0.5229 - val_accuracy: 0.7655\n",
      "Epoch 13/25\n",
      "250/250 [==============================] - 48s 192ms/step - loss: 0.3842 - accuracy: 0.8238 - val_loss: 0.4615 - val_accuracy: 0.8080\n",
      "Epoch 14/25\n",
      "250/250 [==============================] - 49s 195ms/step - loss: 0.3627 - accuracy: 0.8380 - val_loss: 0.5010 - val_accuracy: 0.7880\n",
      "Epoch 15/25\n",
      "250/250 [==============================] - 51s 203ms/step - loss: 0.3515 - accuracy: 0.8419 - val_loss: 0.4430 - val_accuracy: 0.8170\n",
      "Epoch 16/25\n",
      "250/250 [==============================] - 48s 192ms/step - loss: 0.3388 - accuracy: 0.8469 - val_loss: 0.4668 - val_accuracy: 0.8050\n",
      "Epoch 17/25\n",
      "250/250 [==============================] - 50s 200ms/step - loss: 0.3379 - accuracy: 0.8510 - val_loss: 0.4407 - val_accuracy: 0.8075\n",
      "Epoch 18/25\n",
      "250/250 [==============================] - 50s 202ms/step - loss: 0.3240 - accuracy: 0.8590 - val_loss: 0.4721 - val_accuracy: 0.7935\n",
      "Epoch 19/25\n",
      "250/250 [==============================] - 52s 209ms/step - loss: 0.3077 - accuracy: 0.8646 - val_loss: 0.4807 - val_accuracy: 0.7995\n",
      "Epoch 20/25\n",
      "250/250 [==============================] - 48s 190ms/step - loss: 0.2923 - accuracy: 0.8785 - val_loss: 0.5292 - val_accuracy: 0.7955\n",
      "Epoch 21/25\n",
      "250/250 [==============================] - 47s 188ms/step - loss: 0.2909 - accuracy: 0.8759 - val_loss: 0.4562 - val_accuracy: 0.8195\n",
      "Epoch 22/25\n",
      "250/250 [==============================] - 49s 196ms/step - loss: 0.2759 - accuracy: 0.8849 - val_loss: 0.5076 - val_accuracy: 0.8070\n",
      "Epoch 23/25\n",
      "250/250 [==============================] - 50s 200ms/step - loss: 0.2647 - accuracy: 0.8904 - val_loss: 0.5175 - val_accuracy: 0.7815\n",
      "Epoch 24/25\n",
      "250/250 [==============================] - 49s 196ms/step - loss: 0.2559 - accuracy: 0.8950 - val_loss: 0.4960 - val_accuracy: 0.8105\n",
      "Epoch 25/25\n",
      "250/250 [==============================] - 47s 190ms/step - loss: 0.2373 - accuracy: 0.9020 - val_loss: 0.5225 - val_accuracy: 0.8060\n"
     ]
    },
    {
     "data": {
      "text/plain": [
       "<keras.callbacks.History at 0x1cc109e9ac0>"
      ]
     },
     "execution_count": 13,
     "metadata": {},
     "output_type": "execute_result"
    }
   ],
   "source": [
    "cnn.fit(x = training_set, validation_data = test_set, epochs = 25)"
   ]
  },
  {
   "cell_type": "code",
   "execution_count": 14,
   "metadata": {
    "id": "dt4VXieGh-Nk"
   },
   "outputs": [
    {
     "ename": "AttributeError",
     "evalue": "module 'keras.preprocessing.image' has no attribute 'load_img'",
     "output_type": "error",
     "traceback": [
      "\u001b[1;31m---------------------------------------------------------------------------\u001b[0m",
      "\u001b[1;31mAttributeError\u001b[0m                            Traceback (most recent call last)",
      "\u001b[1;32m<ipython-input-14-cc6cc8c2a2c1>\u001b[0m in \u001b[0;36m<module>\u001b[1;34m\u001b[0m\n\u001b[0;32m      1\u001b[0m \u001b[1;32mimport\u001b[0m \u001b[0mnumpy\u001b[0m \u001b[1;32mas\u001b[0m \u001b[0mnp\u001b[0m\u001b[1;33m\u001b[0m\u001b[1;33m\u001b[0m\u001b[0m\n\u001b[0;32m      2\u001b[0m \u001b[1;32mfrom\u001b[0m \u001b[0mkeras\u001b[0m\u001b[1;33m.\u001b[0m\u001b[0mpreprocessing\u001b[0m \u001b[1;32mimport\u001b[0m \u001b[0mimage\u001b[0m\u001b[1;33m\u001b[0m\u001b[1;33m\u001b[0m\u001b[0m\n\u001b[1;32m----> 3\u001b[1;33m \u001b[0mtest_image\u001b[0m \u001b[1;33m=\u001b[0m \u001b[0mimage\u001b[0m\u001b[1;33m.\u001b[0m\u001b[0mload_img\u001b[0m\u001b[1;33m(\u001b[0m\u001b[1;34m'dataset/single_prediction/cat_or_dog_1.jpg'\u001b[0m\u001b[1;33m,\u001b[0m \u001b[0mtarget_size\u001b[0m \u001b[1;33m=\u001b[0m \u001b[1;33m(\u001b[0m\u001b[1;36m64\u001b[0m\u001b[1;33m,\u001b[0m \u001b[1;36m64\u001b[0m\u001b[1;33m)\u001b[0m\u001b[1;33m)\u001b[0m\u001b[1;33m\u001b[0m\u001b[1;33m\u001b[0m\u001b[0m\n\u001b[0m\u001b[0;32m      4\u001b[0m \u001b[0mtest_image\u001b[0m \u001b[1;33m=\u001b[0m \u001b[0mimage\u001b[0m\u001b[1;33m.\u001b[0m\u001b[0mimg_to_array\u001b[0m\u001b[1;33m(\u001b[0m\u001b[0mtest_image\u001b[0m\u001b[1;33m)\u001b[0m\u001b[1;33m\u001b[0m\u001b[1;33m\u001b[0m\u001b[0m\n\u001b[0;32m      5\u001b[0m \u001b[0mtest_image\u001b[0m \u001b[1;33m=\u001b[0m \u001b[0mnp\u001b[0m\u001b[1;33m.\u001b[0m\u001b[0mexpand_dims\u001b[0m\u001b[1;33m(\u001b[0m\u001b[0mtest_image\u001b[0m\u001b[1;33m,\u001b[0m \u001b[0maxis\u001b[0m \u001b[1;33m=\u001b[0m \u001b[1;36m0\u001b[0m\u001b[1;33m)\u001b[0m\u001b[1;33m\u001b[0m\u001b[1;33m\u001b[0m\u001b[0m\n",
      "\u001b[1;31mAttributeError\u001b[0m: module 'keras.preprocessing.image' has no attribute 'load_img'"
     ]
    }
   ],
   "source": [
    "import numpy as np\n",
    "from keras.preprocessing import image\n",
    "test_image = image.load_img('dataset/single_prediction/cat_or_dog_1.jpg', target_size = (64, 64))\n",
    "test_image = image.img_to_array(test_image)\n",
    "test_image = np.expand_dims(test_image, axis = 0)\n",
    "result = cnn.predict(test_image)\n",
    "training_set.class_indices\n",
    "if result[0][0] == 1:\n",
    "  prediction = 'dog'\n",
    "else:\n",
    "  prediction = 'cat'"
   ]
  },
  {
   "cell_type": "code",
   "execution_count": null,
   "metadata": {
    "id": "xe9H6oy3h-38"
   },
   "outputs": [],
   "source": [
    "print(prediction)"
   ]
  },
  {
   "cell_type": "code",
   "execution_count": null,
   "metadata": {
    "id": "oETPw8tjiAHr"
   },
   "outputs": [],
   "source": []
  }
 ],
 "metadata": {
  "colab": {
   "name": "CNN.ipynb",
   "provenance": []
  },
  "kernelspec": {
   "display_name": "Python 3",
   "language": "python",
   "name": "python3"
  },
  "language_info": {
   "codemirror_mode": {
    "name": "ipython",
    "version": 3
   },
   "file_extension": ".py",
   "mimetype": "text/x-python",
   "name": "python",
   "nbconvert_exporter": "python",
   "pygments_lexer": "ipython3",
   "version": "3.8.8"
  }
 },
 "nbformat": 4,
 "nbformat_minor": 1
}
